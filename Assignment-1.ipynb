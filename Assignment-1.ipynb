{
 "cells": [
  {
   "cell_type": "code",
   "execution_count": null,
   "id": "7840f93b",
   "metadata": {},
   "outputs": [],
   "source": [
    "1. In the below elements which of them are values or an expression?\n",
    "eg:- values can be integer or string and expressions will be mathematical operators.\n",
    "* \n",
    "'hello'\n",
    "-87.8\n",
    "- \n",
    "/ \n",
    "+\n",
    "6 \n",
    "\n",
    "\n",
    "Sol:1\n",
    "    \n",
    "*            -expression\n",
    "'hello'      -values\n",
    "-87.8        -values\n",
    "-            -expression\n",
    "/            -expression\n",
    "+            -expression\n",
    "6            -values\n",
   
   ]
  },
  {
   "cell_type": "code",
   "execution_count": null,
   "id": "105a861f",
   "metadata": {},
   "outputs": [],
   "source": [
    "2. What is the difference between string and variable?\n",
    "\n",
    "\n",
    "Sol2:\n",
    "    \n",
    "Variable - in variable we can store information\n",
    "         - varaible is a name that can refer to any value\n",
    "\n",
    "String - String is a type of information that we can store in variable\n",
    "       - a string is a albhabet or a word that enclosed within single quote or double quote\n",
    "    \n",
    "    s = 'amit'\n",
    "    \n",
    "in above statement s is a variable in which string type of data is stored"
   ]
  },
  {
   "cell_type": "code",
   "execution_count": null,
   "id": "7874875d",
   "metadata": {},
   "outputs": [],
   "source": [
    "3. Describe three different data types.\n",
    "\n",
    "\n",
    "Sol3:\n",
    "\n",
    "a)Int - it contains +ve or -ve whole number\n",
    "  x = 5\n",
    "\n",
    "b)Float - it is a real number with floating point\n",
    "  y = 5.0\n",
    "\n",
    "c)String - a string is a collection of one or more characters put in a single quote or double-quote\n",
    " z = 'amit'"
   ]
  },
  {
   "cell_type": "code",
   "execution_count": null,
   "id": "ab4a190a",
   "metadata": {},
   "outputs": [],
   "source": [
    "4. What is an expression made up of? What do all expressions do?\n",
    "\n",
    "Sol4:\n",
    "    \n",
    "An expression is made up of values, variables, operators, and calls to functions.\n",
    "\n",
    "Expressions need to be evaluated. If you ask Python to print an expression,\n",
    "the interpreter evaluates the expression and displays the result."
   ]
  },
  {
   "cell_type": "code",
   "execution_count": null,
   "id": "2b8f9e16",
   "metadata": {},
   "outputs": [],
   "source": [
    "5. This assignment statements, like spam = 10. What is the difference between an expression and a statement?\n",
    "\n",
    "Sol5:\n",
    "    \n",
    "Statements represent an action or command\n",
    "example: print statements : print ('hello')\n",
    "         assignment statements : spam = 10\n",
    "                \n",
    "Expression is a combination of variables, operations and values that yields a result value\n",
    "example: 5 * 5\n",
    "         2 + 2\n",
    "        \n",
    "An expression is something that can be reduced to a value, for example \"1+3\" is an expression, but \"foo = 1+3\" is not."
   ]
  },
  {
   "cell_type": "code",
   "execution_count": null,
   "id": "160fde60",
   "metadata": {},
   "outputs": [],
   "source": [
    "6. After running the following code, what does the variable bacon contain?\n",
    "bacon = 22\n",
    "bacon + 1\n",
    "\n",
    "\n",
    "Sol6:\n",
    "    \n",
    "22"
   ]
  },
  {
   "cell_type": "code",
   "execution_count": null,
   "id": "703a912b",
   "metadata": {},
   "outputs": [],
   "source": [
    "7. What should the values of the following two terms be?\n",
    "'spam' + 'spamspam'\n",
    "'spam' * 3\n",
    "\n",
    "\n",
    "Sol7:\n",
    "    \n",
    "'spamspamspam'\n",
    "'spamspamspam'"
   ]
  },
  {
   "cell_type": "code",
   "execution_count": null,
   "id": "e143a981",
   "metadata": {},
   "outputs": [],
   "source": [
    "8. Why is eggs a valid variable name while 100 is invalid?\n",
    "\n",
    "Sol8:\n",
    "\n",
    "Rules for Python variables:\n",
    "\n",
    "A variable name must start with a letter or the underscore character\n",
    "A variable name cannot start with a number\n",
    "A variable name can only contain alpha-numeric characters and underscores (A-z, 0-9, and _ )\n",
    "Variable names are case-sensitive (age, Age and AGE are three different variables)\n",
    "\n",
    "eggs is a valid varible name bcz it follow above rules and 100 is not a valid vairable\n",
    "name as variable name cannot start with a number "
   ]
  },
  {
   "cell_type": "code",
   "execution_count": null,
   "id": "cb101343",
   "metadata": {},
   "outputs": [],
   "source": [
    "9. What three functions can be used to get the integer, floating-point number, or string version of a value?\n",
    "\n",
    "Sol9:\n",
    "    \n",
    "int()\n",
    "float()\n",
    "str()"
   ]
  },
  {
   "cell_type": "code",
   "execution_count": null,
   "id": "c2fe6969",
   "metadata": {},
   "outputs": [],
   "source": [
    "10. Why does this expression cause an error? How can you fix it?\n",
    "'I have eaten ' + 99 + ' burritos.'\n",
    "\n",
    "Sol10:\n",
    "    \n",
    "it shows an error because we are trying to add string with integer\n",
    "we can fix this by converting 99 as string\n",
    "\n",
    "'I have eaten ' + '99' + ' burritos.'"
   ]
  }
 ],
 "metadata": {
  "kernelspec": {
   "display_name": "Python 3",
   "language": "python",
   "name": "python3"
  },
  "language_info": {
   "codemirror_mode": {
    "name": "ipython",
    "version": 3
   },
   "file_extension": ".py",
   "mimetype": "text/x-python",
   "name": "python",
   "nbconvert_exporter": "python",
   "pygments_lexer": "ipython3",
   "version": "3.8.8"
  }
 },
 "nbformat": 4,
 "nbformat_minor": 5
}
