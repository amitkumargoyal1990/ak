{
 "cells": [
  {
   "cell_type": "code",
   "execution_count": null,
   "id": "6a03a24b",
   "metadata": {},
   "outputs": [],
   "source": [
    "1. Why are functions advantageous to have in your programs?\n",
    "\n",
    "Sol-1\n",
    "\n",
    "Functions reduce the need for duplicate code.\n",
    "This makes programs shorter, easier to read, and easier to update."
   ]
  },
  {
   "cell_type": "code",
   "execution_count": null,
   "id": "8e77de71",
   "metadata": {},
   "outputs": [],
   "source": [
    "2. When does the code in a function run: when it's specified or when it's called?\n",
    "\n",
    "Sol-2\n",
    "\n",
    "when it's called then a function run"
   ]
  },
  {
   "cell_type": "code",
   "execution_count": null,
   "id": "e780489f",
   "metadata": {},
   "outputs": [],
   "source": [
    "3. What statement creates a function?\n",
    "\n",
    "Sol-3\n",
    "\n",
    "The “def” keyword is a statement for defining a function in Python"
   ]
  },
  {
   "cell_type": "code",
   "execution_count": null,
   "id": "d4e65621",
   "metadata": {},
   "outputs": [],
   "source": [
    "4. What is the difference between a function and a function call?\n",
    "\n",
    "Sol-4\n",
    "\n",
    "A function is nothing but just a set of statements which is written as a block to perform a specific type of job.\n",
    "while function call is using this function to achive that task."
   ]
  },
  {
   "cell_type": "code",
   "execution_count": null,
   "id": "30abd2a7",
   "metadata": {},
   "outputs": [],
   "source": [
    "5. How many global scopes are there in a Python program? How many local scopes?\n",
    "\n",
    "Sol-5\n",
    "\n",
    "There’s only one global Python scope per program execution. This scope remains in existence until the program terminates\n",
    "\n",
    "A variable created inside a function belongs to the local scope of that function, and can only be used inside that function."
   ]
  },
  {
   "cell_type": "code",
   "execution_count": null,
   "id": "bc10f824",
   "metadata": {},
   "outputs": [],
   "source": [
    "6. What happens to variables in a local scope when the function call returns?\n",
    "\n",
    "Sol-6\n",
    "\n",
    "When the execution of the function terminates (returns), the local variables are destroyed."
   ]
  },
  {
   "cell_type": "code",
   "execution_count": null,
   "id": "c500e650",
   "metadata": {},
   "outputs": [],
   "source": [
    "7. What is the concept of a return value? Is it possible to have a return value in an expression?\n",
    "\n",
    "Sol-7\n",
    "\n",
    "A return statement is used to end the execution of the function call and “returns” the result to the caller.\n",
    "\n",
    "If a return statement is followed by an expression list, that expression list is evaluated and the value is returned"
   ]
  },
  {
   "cell_type": "code",
   "execution_count": null,
   "id": "d747c14f",
   "metadata": {},
   "outputs": [],
   "source": [
    "8. If a function does not have a return statement, what is the return value of a call to that function?\n",
    "\n",
    "Sol-8\n",
    "\n",
    "If a function doesn't specify a return value, it returns None.\n",
    "In an if/then conditional statement, None evaluates to False."
   ]
  },
  {
   "cell_type": "code",
   "execution_count": null,
   "id": "00d83900",
   "metadata": {},
   "outputs": [],
   "source": [
    "9. How do you make a function variable refer to the global variable?\n",
    "\n",
    "Sol-9\n",
    "\n",
    "If you want to refer to a global variable in a function,\n",
    "you can use the global keyword to declare which variables are global."
   ]
  },
  {
   "cell_type": "code",
   "execution_count": null,
   "id": "f3cbf88f",
   "metadata": {},
   "outputs": [],
   "source": [
    "10. What is the data type of None?\n",
    "\n",
    "Sol-10\n",
    "\n",
    "None is used to define a null value.\n",
    "It is not the same as an empty string, False, or a zero. It is a data type of the class NoneType object"
   ]
  },
  {
   "cell_type": "code",
   "execution_count": null,
   "id": "a2d25feb",
   "metadata": {},
   "outputs": [],
   "source": [
    "11. What does the sentence import areallyourpetsnamederic do?\n",
    "\n",
    "Sol-11\n",
    "\n",
    "To access a module in Python, you can use the import statement.\n",
    "The import statement reads the code in a Python module and allows you to use it in another file"
   ]
  },
  {
   "cell_type": "code",
   "execution_count": null,
   "id": "4ca65fd0",
   "metadata": {},
   "outputs": [],
   "source": [
    "12. If you had a bacon() feature in a spam module, what would you call it after importing spam?\n",
    "\n",
    "Sol-12\n",
    "\n",
    "spam.bacon()"
   ]
  },
  {
   "cell_type": "code",
   "execution_count": null,
   "id": "40f240d9",
   "metadata": {},
   "outputs": [],
   "source": [
    "13. What can you do to save a programme from crashing if it encounters an error?\n",
    "\n",
    "Sol-13\n",
    "\n",
    "Use exception handling"
   ]
  },
  {
   "cell_type": "code",
   "execution_count": null,
   "id": "c849ecae",
   "metadata": {},
   "outputs": [],
   "source": [
    "14. What is the purpose of the try clause? What is the purpose of the except clause?\n",
    "\n",
    "Sol-14\n",
    "\n",
    "The try block is used to check some code for errors\n",
    "i.e the code inside the try block will execute when there is no error in the program.\n",
    "Whereas the code inside the except block will execute\n",
    "whenever the program encounters some error in the preceding try block."
   ]
  }
 ],
 "metadata": {
  "kernelspec": {
   "display_name": "Python 3",
   "language": "python",
   "name": "python3"
  },
  "language_info": {
   "codemirror_mode": {
    "name": "ipython",
    "version": 3
   },
   "file_extension": ".py",
   "mimetype": "text/x-python",
   "name": "python",
   "nbconvert_exporter": "python",
   "pygments_lexer": "ipython3",
   "version": "3.8.8"
  }
 },
 "nbformat": 4,
 "nbformat_minor": 5
}
