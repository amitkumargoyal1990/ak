{
 "cells": [
  {
   "cell_type": "code",
   "execution_count": null,
   "id": "a4aff9c3",
   "metadata": {},
   "outputs": [],
   "source": [
    "1. What are escape characters, and how do you use them?\n",
    "\n",
    "Sol-1\n",
    "\n",
    "To insert characters that are illegal in a string, use an escape character.\n",
    "An escape character is a backslash \\ followed by the character you want to insert.\n",
    "\n",
    "An example of an illegal character is a double quote inside a string that is surrounded by double quotes:\n",
    "    Example:\n",
    "        Problem - txt = \"We are the so-called \"Vikings\" from the north.\"\n",
    "        \n",
    "        Solution - txt = \"We are the so-called \\\"Vikings\\\" from the north.\""
   ]
  },
  {
   "cell_type": "code",
   "execution_count": null,
   "id": "e6a06875",
   "metadata": {},
   "outputs": [],
   "source": [
    "2. What do the escape characters n and t stand for?\n",
    "\n",
    "Sol-2\n",
    "\n",
    "n - New Line\n",
    "t = tab"
   ]
  },
  {
   "cell_type": "code",
   "execution_count": null,
   "id": "daf6ca13",
   "metadata": {},
   "outputs": [],
   "source": [
    "3. What is the way to include backslash characters in a string?\n",
    "\n",
    "Sol-3\n",
    "\n",
    "An example of an illegal character is a double quote inside a string that is surrounded by double quotes:\n",
    "    Example:\n",
    "        Problem - txt = \"We are the so-called \"Vikings\" from the north.\"\n",
    "        \n",
    "        Solution - txt = \"We are the so-called \\\"Vikings\\\" from the north.\""
   ]
  },
  {
   "cell_type": "code",
   "execution_count": null,
   "id": "c021c36c",
   "metadata": {},
   "outputs": [],
   "source": [
    "4. The string \"Howl's Moving Castle\" is a correct value.\n",
    "Why isn't the single quote character in the word Howl's not escaped a problem?\n",
    "\n",
    "Sol-4\n",
    "\n",
    "The single quote in Howl's is fine because you've used double quotes to mark the beginning and end of the string."
   ]
  },
  {
   "cell_type": "code",
   "execution_count": null,
   "id": "acb26c4f",
   "metadata": {},
   "outputs": [],
   "source": [
    "5. How do you write a string of newlines if you don't want to use the n character?\n",
    "\n",
    "Sol-5\n",
    "\n",
    "Multiline strings allow you to use newlines in strings without the \\n escape character."
   ]
  },
  {
   "cell_type": "code",
   "execution_count": null,
   "id": "4e6aee52",
   "metadata": {},
   "outputs": [],
   "source": [
    "6. What are the values of the given expressions?\n",
    "'Hello, world!'[1]\n",
    "'Hello, world!'[0:5]\n",
    "'Hello, world!'[:5]\n",
    "'Hello, world!'[3:]\n",
    "\n",
    "Sol-6\n",
    "\n",
    "'e'\n",
    "'Hello'\n",
    "'Hello'\n",
    "'lo world!'"
   ]
  },
  {
   "cell_type": "code",
   "execution_count": null,
   "id": "c5c3ef74",
   "metadata": {},
   "outputs": [],
   "source": [
    "7. What are the values of the following expressions?\n",
    "'Hello'.upper()\n",
    "'Hello'.upper().isupper()\n",
    "'Hello'.upper().lower()\n",
    "\n",
    "Sol-7\n",
    "\n",
    "'HELLO'\n",
    "True\n",
    "'hello'"
   ]
  },
  {
   "cell_type": "code",
   "execution_count": null,
   "id": "cdca7db1",
   "metadata": {},
   "outputs": [],
   "source": [
    "8. What are the values of the following expressions?\n",
    "'Remember, remember, the fifth of July.'.split()\n",
    "'-'.join('There can only one.'.split())\n",
    "\n",
    "Sol-8\n",
    "\n",
    "['Remember,', 'remember,', 'the', 'fifth', 'of', 'November.']\n",
    "'There-can-be-only-one'"
   ]
  },
  {
   "cell_type": "code",
   "execution_count": null,
   "id": "2c470b4b",
   "metadata": {},
   "outputs": [],
   "source": [
    "9. What are the methods for right-justifying, left-justifying, and centering a string?\n",
    "\n",
    "Sol-9\n",
    "\n",
    "rjust() - right-justifying\n",
    "ljust() - left-justifying\n",
    "center() - Centering a string"
   ]
  },
  {
   "cell_type": "code",
   "execution_count": null,
   "id": "d3a355de",
   "metadata": {},
   "outputs": [],
   "source": [
    "10. What is the best way to remove whitespace characters from the start or end?\n",
    "\n",
    "Sol-10\n",
    "\n",
    "lstrip() and rstrip() methods remove whitespace from the left and right ends of a string"
   ]
  }
 ],
 "metadata": {
  "kernelspec": {
   "display_name": "Python 3",
   "language": "python",
   "name": "python3"
  },
  "language_info": {
   "codemirror_mode": {
    "name": "ipython",
    "version": 3
   },
   "file_extension": ".py",
   "mimetype": "text/x-python",
   "name": "python",
   "nbconvert_exporter": "python",
   "pygments_lexer": "ipython3",
   "version": "3.8.8"
  }
 },
 "nbformat": 4,
 "nbformat_minor": 5
}
