{
 "cells": [
  {
   "cell_type": "code",
   "execution_count": 15,
   "id": "c07d1eb8",
   "metadata": {},
   "outputs": [
    {
     "name": "stdout",
     "output_type": "stream",
     "text": [
      "input a number : 12\n",
      "number is positive\n"
     ]
    }
   ],
   "source": [
    "#1.Write a Python Program to Check if a Number is Positive, Negative or Zero?\n",
    "\n",
    "#Sol-1\n",
    "\n",
    "number = int(input(\"input a number : \"))\n",
    "if number > 0:\n",
    "    print(\"number is positive\")\n",
    "elif number < 0:\n",
    "    print(\"number is negative\")\n",
    "else:\n",
    "    print(\"number is zero\")"
   ]
  },
  {
   "cell_type": "code",
   "execution_count": 17,
   "id": "882fec67",
   "metadata": {},
   "outputs": [
    {
     "name": "stdout",
     "output_type": "stream",
     "text": [
      "Enter a number : 11113\n",
      "Odd\n"
     ]
    }
   ],
   "source": [
    "#2.Write a Python Program to Check if a Number is Odd or Even?\n",
    "\n",
    "#Sol-2\n",
    "\n",
    "num = int(input(\"Enter a number : \"))\n",
    "if num%2 == 0 :\n",
    "    print(\"Even\")\n",
    "else:\n",
    "    print(\"Odd\")"
   ]
  },
  {
   "cell_type": "code",
   "execution_count": 24,
   "id": "d0e4c3d5",
   "metadata": {},
   "outputs": [
    {
     "name": "stdout",
     "output_type": "stream",
     "text": [
      "input a year : 2008\n",
      "2008 : is a Leap Year\n"
     ]
    }
   ],
   "source": [
    "#3.Write a Python Program to Check Leap Year?\n",
    "\n",
    "#Sol-3\n",
    "\n",
    "year = int(input(\"input a year : \"))\n",
    " \n",
    "if (( year%400 == 0)or (( year%4 == 0 ) and ( year%100 != 0))):\n",
    "    print(\"{} : is a Leap Year\".format(year))\n",
    "else:\n",
    "    print(\"{} : is Not the Leap Year\".format(year))"
   ]
  },
  {
   "cell_type": "code",
   "execution_count": 37,
   "id": "e09ba4da",
   "metadata": {},
   "outputs": [
    {
     "name": "stdout",
     "output_type": "stream",
     "text": [
      "input a number : 17\n",
      "17 is a prime number\n"
     ]
    }
   ],
   "source": [
    "#4.Write a Python Program to Check Prime Number?\n",
    "\n",
    "#Sol-4\n",
    "\n",
    "num = int(input(\"input a number : \"))\n",
    "\n",
    "# prime numbers are greater than 1\n",
    "if num > 1:\n",
    "    for i in range(2,num):\n",
    "        if (num % i) == 0:\n",
    "            print(num,\"is not a prime number\")\n",
    "            break\n",
    "    else:\n",
    "            print(num,\"is a prime number\")\n",
    "else:\n",
    "    print(num,\"is not a prime number\")"
   ]
  },
  {
   "cell_type": "code",
   "execution_count": 38,
   "id": "fba26026",
   "metadata": {},
   "outputs": [
    {
     "name": "stdout",
     "output_type": "stream",
     "text": [
      "Prime numbers between 900 and 1000 are:\n",
      "907\n",
      "911\n",
      "919\n",
      "929\n",
      "937\n",
      "941\n",
      "947\n",
      "953\n",
      "967\n",
      "971\n",
      "977\n",
      "983\n",
      "991\n",
      "997\n"
     ]
    }
   ],
   "source": [
    "#5.Write a Python Program to Print all Prime Numbers in an Interval of 1-10000?\n",
    "\n",
    "#Sol-5\n",
    "\n",
    "lower = 900\n",
    "upper = 1000\n",
    "\n",
    "print(\"Prime numbers between\", lower, \"and\", upper, \"are:\")\n",
    "\n",
    "for num in range(lower, upper + 1):\n",
    "   # all prime numbers are greater than 1\n",
    "   if num > 1:\n",
    "       for i in range(2, num):\n",
    "           if (num % i) == 0:\n",
    "               break\n",
    "       else:\n",
    "           print(num)"
   ]
  },
  {
   "cell_type": "code",
   "execution_count": null,
   "id": "082c24a0",
   "metadata": {},
   "outputs": [],
   "source": []
  }
 ],
 "metadata": {
  "kernelspec": {
   "display_name": "Python 3",
   "language": "python",
   "name": "python3"
  },
  "language_info": {
   "codemirror_mode": {
    "name": "ipython",
    "version": 3
   },
   "file_extension": ".py",
   "mimetype": "text/x-python",
   "name": "python",
   "nbconvert_exporter": "python",
   "pygments_lexer": "ipython3",
   "version": "3.8.8"
  }
 },
 "nbformat": 4,
 "nbformat_minor": 5
}
