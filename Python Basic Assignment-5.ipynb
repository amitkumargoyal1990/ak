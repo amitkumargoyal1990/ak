{
 "cells": [
  {
   "cell_type": "code",
   "execution_count": null,
   "id": "53e37663",
   "metadata": {},
   "outputs": [],
   "source": [
    "1. What does an empty dictionary's code look like?\n",
    "\n",
    "Sol-1\n",
    "\n",
    "Method 1: Use of { } symbol\n",
    "        emptyDict = {}\n",
    "        \n",
    "Method 2: use of dict\n",
    "        emptyDict = dict()    "
   ]
  },
  {
   "cell_type": "code",
   "execution_count": null,
   "id": "5960380e",
   "metadata": {},
   "outputs": [],
   "source": [
    "2. What is the value of a dictionary value with the key 'foo' and the value 42?\n",
    "\n",
    "Sol-2\n",
    "\n",
    "x = {\"foo\" : 42}"
   ]
  },
  {
   "cell_type": "code",
   "execution_count": null,
   "id": "268173b3",
   "metadata": {},
   "outputs": [],
   "source": [
    "3. What is the most significant distinction between a dictionary and a list?\n",
    "\n",
    "Sol-3\n",
    "The items stored in a dictionary are unordered, while the items in a list are ordered.\n",
    "dictionaries are accessed via keys and not via their position."
   ]
  },
  {
   "cell_type": "code",
   "execution_count": null,
   "id": "422d9c58",
   "metadata": {},
   "outputs": [],
   "source": [
    "4. What happens if you try to access spam['foo'] if spam is {'bar': 100}?\n",
    "\n",
    "Sol-4\n",
    "\n",
    "KeyError: 'foo'"
   ]
  },
  {
   "cell_type": "code",
   "execution_count": null,
   "id": "a985e47c",
   "metadata": {},
   "outputs": [],
   "source": [
    "5. If a dictionary is stored in spam,\n",
    "what is the difference between the expressions 'cat' in spam and 'cat' in spam.keys()?\n",
    "\n",
    "Sol-5\n",
    "\n",
    "there is no difference between the expressions 'cat' in spam and 'cat' in spam.keys()\n",
    "\n",
    "both will give True if 'cat' is present in key and false if 'cat' is not present in key"
   ]
  },
  {
   "cell_type": "code",
   "execution_count": null,
   "id": "09ac4ab9",
   "metadata": {},
   "outputs": [],
   "source": [
    "#Example\n",
    "spam = {'cat': 'three'}"
   ]
  },
  {
   "cell_type": "code",
   "execution_count": 32,
   "id": "fa075296",
   "metadata": {},
   "outputs": [
    {
     "data": {
      "text/plain": [
       "True"
      ]
     },
     "execution_count": 32,
     "metadata": {},
     "output_type": "execute_result"
    }
   ],
   "source": [
    "'cat' in spam"
   ]
  },
  {
   "cell_type": "code",
   "execution_count": 33,
   "id": "a1c887dd",
   "metadata": {},
   "outputs": [
    {
     "data": {
      "text/plain": [
       "True"
      ]
     },
     "execution_count": 33,
     "metadata": {},
     "output_type": "execute_result"
    }
   ],
   "source": [
    " 'cat' in spam.keys()"
   ]
  },
  {
   "cell_type": "code",
   "execution_count": null,
   "id": "7f195645",
   "metadata": {},
   "outputs": [],
   "source": [
    "6. If a dictionary is stored in spam,\n",
    "What is the difference between the expressions 'cat' in spam and 'cat' in spam.values()?\n",
    "\n",
    "Sol-6\n",
    "\n",
    "'cat' in spam - this will search if 'cat' is present in key or not\n",
    "\n",
    "'cat' in spam.values() - this will search if 'cat' is present in value or not"
   ]
  },
  {
   "cell_type": "code",
   "execution_count": 34,
   "id": "36e133dd",
   "metadata": {},
   "outputs": [],
   "source": [
    "#Example\n",
    "\n",
    "spam = {'cat': 'three'}"
   ]
  },
  {
   "cell_type": "code",
   "execution_count": 35,
   "id": "d89ec418",
   "metadata": {},
   "outputs": [
    {
     "data": {
      "text/plain": [
       "True"
      ]
     },
     "execution_count": 35,
     "metadata": {},
     "output_type": "execute_result"
    }
   ],
   "source": [
    "'cat' in spam"
   ]
  },
  {
   "cell_type": "code",
   "execution_count": 36,
   "id": "734a6b34",
   "metadata": {},
   "outputs": [
    {
     "data": {
      "text/plain": [
       "False"
      ]
     },
     "execution_count": 36,
     "metadata": {},
     "output_type": "execute_result"
    }
   ],
   "source": [
    "'cat' in spam.values()"
   ]
  },
  {
   "cell_type": "code",
   "execution_count": 37,
   "id": "19610558",
   "metadata": {},
   "outputs": [],
   "source": [
    "spam = {'three' : 'cat'}"
   ]
  },
  {
   "cell_type": "code",
   "execution_count": 38,
   "id": "6a6c469e",
   "metadata": {},
   "outputs": [
    {
     "data": {
      "text/plain": [
       "True"
      ]
     },
     "execution_count": 38,
     "metadata": {},
     "output_type": "execute_result"
    }
   ],
   "source": [
    "'cat' in spam.values()"
   ]
  },
  {
   "cell_type": "code",
   "execution_count": null,
   "id": "624e0e61",
   "metadata": {},
   "outputs": [],
   "source": [
    "7. What is a shortcut for the following code?\n",
    "if 'color' not in spam:\n",
    "spam['color'] = 'black'\n",
    "\n",
    "Sol-7\n",
    "\n",
    "spam.setdefault('color', 'black')"
   ]
  },
  {
   "cell_type": "code",
   "execution_count": null,
   "id": "cda52a0e",
   "metadata": {},
   "outputs": [],
   "source": [
    "8. How do you \"pretty print\" dictionary values using which module and function?\n",
    "\n",
    "Sol-8\n",
    "\n",
    "pprint.pprint()\n",
    "\n",
    "#please provide explantion for this"
   ]
  }
 ],
 "metadata": {
  "kernelspec": {
   "display_name": "Python 3",
   "language": "python",
   "name": "python3"
  },
  "language_info": {
   "codemirror_mode": {
    "name": "ipython",
    "version": 3
   },
   "file_extension": ".py",
   "mimetype": "text/x-python",
   "name": "python",
   "nbconvert_exporter": "python",
   "pygments_lexer": "ipython3",
   "version": "3.8.8"
  }
 },
 "nbformat": 4,
 "nbformat_minor": 5
}
