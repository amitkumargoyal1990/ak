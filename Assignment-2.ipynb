{
 "cells": [
  {
   "cell_type": "code",
   "execution_count": null,
   "id": "ab8b813f",
   "metadata": {},
   "outputs": [],
   "source": [
    "1.What are the two values of the Boolean data type? How do you write them?\n",
    "\n",
    "Sol-1\n",
    "\n",
    "the two values of the Boolean data type are: - True & False\n",
    "\n",
    "We write them in proper case"
   ]
  },
  {
   "cell_type": "code",
   "execution_count": null,
   "id": "05bee132",
   "metadata": {},
   "outputs": [],
   "source": [
    "2. What are the three different types of Boolean operators?\n",
    "\n",
    "Sol-2\n",
    "\n",
    "There are three logical operators that are used to compare values.\n",
    "They evaluate expressions down to Boolean values, returning either True or False.\n",
    "These operators are and , or , and not."
   ]
  },
  {
   "cell_type": "code",
   "execution_count": null,
   "id": "6ac68455",
   "metadata": {},
   "outputs": [],
   "source": [
    "3. Make a list of each Boolean operator's truth tables\n",
    "(i.e. every possible combination of Boolean values for the operator and what it evaluate ).\n",
    "\n",
    "Sol-3\n",
    "\n",
    "X      Y        not X         X and Y         X or Y\n",
    "0      0         1               0              0\n",
    "0      1         1               0              1\n",
    "1      0         0               0              1\n",
    "1      1         0               1              1"
   ]
  },
  {
   "cell_type": "code",
   "execution_count": null,
   "id": "91dbc6ae",
   "metadata": {},
   "outputs": [],
   "source": [
    "4. What are the values of the following expressions?\n",
    "(5 > 4) and (3 == 5)\n",
    "not (5 > 4)\n",
    "(5 > 4) or (3 == 5)\n",
    "not ((5 > 4) or (3 == 5))\n",
    "(True and True) and (True == False)\n",
    "(not False) or (not True)\n",
    "\n",
    "Sol-4\n",
    "\n",
    "False: (5 > 4) and (3 == 5)\n",
    "False: not (5 > 4)\n",
    "True: (5 > 4) or (3 == 5)\n",
    "False: not ((5 > 4) or (3 == 5))\n",
    "False: (True and True) and (True == False)\n",
    "True: (not False) or (not True)"
   ]
  },
  {
   "cell_type": "code",
   "execution_count": null,
   "id": "6d31b6a0",
   "metadata": {},
   "outputs": [],
   "source": [
    "5. What are the six comparison operators?\n",
    "\n",
    "Sol-5\n",
    "\n",
    "Python six comparison operators:\n",
    "    1.less than (<)\n",
    "    2.less than or equal to (<=)\n",
    "    3.greater than (>)\n",
    "    4.greater than or equal to (>=)\n",
    "    5.equal to (==)\n",
    "    6.not equal to (!=)."
   ]
  },
  {
   "cell_type": "code",
   "execution_count": null,
   "id": "a05a3bb5",
   "metadata": {},
   "outputs": [],
   "source": [
    "6. How do you tell the difference between the equal to and assignment operators?\n",
    "Describe a condition and when you would use one.\n",
    "\n",
    "Sol-6\n",
    "\n",
    "The “=” is an assignment operator is used to assign the value on the right to the variable on the left.\n",
    "\n",
    "The ‘==’ operator checks whether the two given operands are equal or not.\n",
    "If so, it returns true. Otherwise it returns false.\n",
    "\n",
    "when we need to assign a value to a variable we use assignment opeartor\n",
    "and when we need to check wheather the value of two variable is same or not we use equal to operator."
   ]
  },
  {
   "cell_type": "code",
   "execution_count": null,
   "id": "1d5656f3",
   "metadata": {},
   "outputs": [],
   "source": [
    "7. Identify the three blocks in this code:\n",
    "spam = 0\n",
    "if spam == 10:\n",
    "print('eggs')\n",
    "if spam > 5:\n",
    "print('bacon')\n",
    "else:\n",
    "print('ham')\n",
    "print('spam')\n",
    "print('spam')\n",
    "\n",
    "Sol-7\n",
    "\n",
    "7. Identify the three blocks in this code:\n",
    "spam = 0\n",
    "if spam == 10: # 1st block\n",
    "    print('eggs')\n",
    "if spam > 5:   # 2nd block\n",
    "    print('bacon')\n",
    "else:          # 3rd block\n",
    "    print('ham')\n",
    "    print('spam')\n",
    "    print('spam')"
   ]
  },
  {
   "cell_type": "code",
   "execution_count": null,
   "id": "21322b38",
   "metadata": {},
   "outputs": [],
   "source": [
    "8. Write code that prints Hello if 1 is stored in spam,\n",
    "prints Howdy if 2 is stored in spam, and prints Greetings! if anything else is stored in spam.\n",
    "\n",
    "spam = 1\n",
    "if spam == 1:\n",
    "    print(\"Hello\")\n",
    "elif spam == 2:\n",
    "    print(\"Howdy\")\n",
    "else:\n",
    "    print(\"Greetings!\")"
   ]
  },
  {
   "cell_type": "code",
   "execution_count": null,
   "id": "b81fa098",
   "metadata": {},
   "outputs": [],
   "source": [
    "9.If your programme is stuck in an endless loop, what keys you’ll press?\n",
    "\n",
    "Sol-9\n",
    "\n",
    "Ctrl + C"
   ]
  },
  {
   "cell_type": "code",
   "execution_count": null,
   "id": "2095847f",
   "metadata": {},
   "outputs": [],
   "source": [
    "10. How can you tell the difference between break and continue?\n",
    "\n",
    "Sol-10\n",
    "\n",
    "Break eliminates the execution of remaining iteration of loop\n",
    "Continue will terminate only the current iteration of loop.\n",
    "\n",
    "Break will resume control of program to the end of loop enclosing that break.\n",
    "Continue will resume the control of the program to next iteration of that loop enclosing continue.\n",
    "\n",
    "Break used with the ‘switch’, ‘label’\n",
    "Continue cannot be executed with switch and the labels"
   ]
  },
  {
   "cell_type": "code",
   "execution_count": null,
   "id": "c9a89734",
   "metadata": {},
   "outputs": [],
   "source": [
    "11. In a for loop, what is the difference between range(10), range(0, 10), and range(0, 10, 1)?\n",
    "\n",
    "Sol-11\n",
    "\n",
    "there is no difference all 3 means 0 to 9"
   ]
  },
  {
   "cell_type": "code",
   "execution_count": null,
   "id": "2f9fff88",
   "metadata": {},
   "outputs": [],
   "source": [
    "12. Write a short program that prints the numbers 1 to 10 using a for loop.\n",
    "Then write an equivalent program that prints the numbers 1 to 10 using a while loop.\n",
    "\n",
    "Sol-12\n",
    "    \n",
    "for i in range(1,11):\n",
    "    print(i)\n",
    "    \n",
    "\n",
    "i=1\n",
    "while(i<11):\n",
    "    print(i)\n",
    "    i=i+1"
   ]
  },
  {
   "cell_type": "code",
   "execution_count": 17,
   "id": "dc51d7a1",
   "metadata": {},
   "outputs": [],
   "source": [
    "13. If you had a function named bacon() inside a module named spam, how would you call it after importing spam?\n",
    "\n",
    "Sol-13\n",
    "\n",
    "spam.bacon()"
   ]
  }
 ],
 "metadata": {
  "kernelspec": {
   "display_name": "Python 3",
   "language": "python",
   "name": "python3"
  },
  "language_info": {
   "codemirror_mode": {
    "name": "ipython",
    "version": 3
   },
   "file_extension": ".py",
   "mimetype": "text/x-python",
   "name": "python",
   "nbconvert_exporter": "python",
   "pygments_lexer": "ipython3",
   "version": "3.8.8"
  }
 },
 "nbformat": 4,
 "nbformat_minor": 5
}
