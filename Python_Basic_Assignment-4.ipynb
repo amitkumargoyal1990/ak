{
 "cells": [
  {
   "cell_type": "code",
   "execution_count": null,
   "id": "3df4c475",
   "metadata": {},
   "outputs": [],
   "source": [
    "1. What exactly is []?\n",
    "\n",
    "Sol-1\n",
    "\n",
    "[] is an empty list."
   ]
  },
  {
   "cell_type": "code",
   "execution_count": null,
   "id": "cb400f23",
   "metadata": {},
   "outputs": [],
   "source": [
    "2. In a list of values stored in a variable called spam, how would you assign the value 'hello' as the third value?\n",
    "(Assume [2, 4, 6, 8, 10] are in spam.)\n",
    "\n",
    "Sol-2\n",
    "\n",
    "spam[2] = 'hello'"
   ]
  },
  {
   "cell_type": "code",
   "execution_count": null,
   "id": "883e2ba8",
   "metadata": {},
   "outputs": [],
   "source": [
    "Let's pretend the spam includes the list ['a', 'b', 'c', 'd'] for the next three queries.\n",
    "\n",
    "3. What is the value of spam[int(int('3' * 2) / 11)]?\n",
    "\n",
    "Sol-3\n",
    "\n",
    "'d'"
   ]
  },
  {
   "cell_type": "code",
   "execution_count": null,
   "id": "8635dc47",
   "metadata": {},
   "outputs": [],
   "source": [
    "4. What is the value of spam[-1]?\n",
    "\n",
    "Sol-4\n",
    "\n",
    "'d'"
   ]
  },
  {
   "cell_type": "code",
   "execution_count": null,
   "id": "84a4b342",
   "metadata": {},
   "outputs": [],
   "source": [
    "5. What is the value of spam[:2]?\n",
    "\n",
    "Sol-5\n",
    "\n",
    "['a', 'b']"
   ]
  },
  {
   "cell_type": "code",
   "execution_count": null,
   "id": "cb4a3dda",
   "metadata": {},
   "outputs": [],
   "source": [
    "   Let's pretend bacon has the list [3.14, 'cat,' 11, 'cat,' True] for the next three questions.\n",
    "6. What is the value of bacon.index('cat')?\n",
    "\n",
    "Sol-6\n",
    "\n",
    "1"
   ]
  },
  {
   "cell_type": "code",
   "execution_count": null,
   "id": "ae1eb5c2",
   "metadata": {},
   "outputs": [],
   "source": [
    "7. How does bacon.append(99) change the look of the list value in bacon?\n",
    "\n",
    "Sol-7\n",
    "\n",
    "it will append 99 in the end\n",
    "[3.14, 'cat', 11, 'cat', True, 99]"
   ]
  },
  {
   "cell_type": "code",
   "execution_count": null,
   "id": "9cb6f819",
   "metadata": {},
   "outputs": [],
   "source": [
    "8. How does bacon.remove('cat') change the look of the list in bacon?\n",
    "\n",
    "Sol-8\n",
    "\n",
    "it will remove the first occurance of 'cat'\n",
    "[3.14, 11, 'cat', True]"
   ]
  },
  {
   "cell_type": "code",
   "execution_count": null,
   "id": "b5913102",
   "metadata": {},
   "outputs": [],
   "source": [
    "9. What are the list concatenation and list replication operators?\n",
    "\n",
    "Sol-9\n",
    "\n",
    "a = [1, 2, 3] \n",
    "b = [4, 5, 6] \n",
    "\n",
    "#Concatination - If you need to concatenate them into a list, you could use the + operator\n",
    "c = a + b \n",
    "c \n",
    "\n",
    "#replication - If you need to replicate the list a say 3 times, you could use the * operator. \n",
    "d = a * 3"
   ]
  },
  {
   "cell_type": "code",
   "execution_count": null,
   "id": "47be65ed",
   "metadata": {},
   "outputs": [],
   "source": [
    "10. What is difference between the list methods append() and insert()?\n",
    "\n",
    "Sol-10\n",
    "\n",
    "The difference is that with append, you just add a new entry at the end of the list.\n",
    "With insert(position, new_entry) you can create a new entry exactly in the position you want."
   ]
  },
  {
   "cell_type": "code",
   "execution_count": null,
   "id": "53500343",
   "metadata": {},
   "outputs": [],
   "source": [
    "11. What are the two methods for removing items from a list?\n",
    "\n",
    "Sol-11\n",
    "\n",
    "remove() - It helps to remove the very first given element matching from the list.\n",
    "pop() - The pop() method removes an element from the list based on the index given."
   ]
  },
  {
   "cell_type": "code",
   "execution_count": null,
   "id": "f78277bc",
   "metadata": {},
   "outputs": [],
   "source": [
    "12. Describe how list values and string values are identical.\n",
    "\n",
    "Sol-12\n",
    "\n",
    "List and string both are used to store value /data and both are sequence."
   ]
  },
  {
   "cell_type": "code",
   "execution_count": null,
   "id": "651007ec",
   "metadata": {},
   "outputs": [],
   "source": [
    "13. What's the difference between tuples and lists?\n",
    "\n",
    "Sol-13\n",
    "\n",
    "1.List is mutable.\n",
    "  Tuple is immutable.\n",
    "    \n",
    "2.List iteration is slower and is time consuming.\n",
    "  Tuple iteration is faster.\n",
    "    \n",
    "3.List is useful for insertion and deletion operations.\n",
    "  Tuple is useful for readonly operations like accessing elements.\n",
    "    \n",
    "4.List consumes more memory.\n",
    "  Tuples consumes less memory.\n",
    "    \n",
    "Python needs to allocate an extra memory block in case there is a need to extend the size of the list object\n",
    "after it is created. In contrary, as tuples are immutable and fixed size, Python allocates just\n",
    "the minimum memory block required for the data.As a result, tuples are more memory efficient than the lists.\n",
    "\n",
    "5.List provides many in-built methods.\n",
    "  Tuples have less in-built methods.\n",
    "    \n",
    "6.List operations are more error prone.\n",
    "  Tuples operations are safe."
   ]
  },
  {
   "cell_type": "code",
   "execution_count": null,
   "id": "7445da88",
   "metadata": {},
   "outputs": [],
   "source": [
    "14. How do you type a tuple value that only contains the integer 42?\n",
    "\n",
    "Sol-14\n",
    "\n",
    " (42,) \n",
    "The trailing comma is mandatory."
   ]
  },
  {
   "cell_type": "code",
   "execution_count": null,
   "id": "67090f15",
   "metadata": {},
   "outputs": [],
   "source": [
    "15. How do you get a list value's tuple form? How do you get a tuple value's list form?\n",
    "\n",
    "Sol-15\n",
    "\n",
    "did not understand the question"
   ]
  },
  {
   "cell_type": "code",
   "execution_count": null,
   "id": "ec5e0ece",
   "metadata": {},
   "outputs": [],
   "source": [
    "16. Variables that \"contain\" list values are not necessarily lists themselves. Instead, what do they contain?\n",
    "\n",
    "Sol-16\n",
    "\n",
    "Variables will contain references to list values rather than list values themselves.\n",
    "But for strings and integer values, variables simply contain the string or integer value."
   ]
  },
  {
   "cell_type": "code",
   "execution_count": null,
   "id": "d4bfe3ed",
   "metadata": {},
   "outputs": [],
   "source": [
    "17. How do you distinguish between copy.copy() and copy.deepcopy()?\n",
    "\n",
    "Sol-17\n",
    "\n",
    "copy.copy(x) - Return a shallow copy of x.\n",
    "\n",
    "copy.deepcopy(x) - Return a deep copy of x.\n",
    "\n",
    "A shallow copy constructs a new compound object and then (to the extent possible)\n",
    "inserts references into it to the objects found in the original.\n",
    "\n",
    "A deep copy constructs a new compound object and then, recursively,\n",
    "inserts copies into it of the objects found in the original."
   ]
  }
 ],
 "metadata": {
  "kernelspec": {
   "display_name": "Python 3",
   "language": "python",
   "name": "python3"
  },
  "language_info": {
   "codemirror_mode": {
    "name": "ipython",
    "version": 3
   },
   "file_extension": ".py",
   "mimetype": "text/x-python",
   "name": "python",
   "nbconvert_exporter": "python",
   "pygments_lexer": "ipython3",
   "version": "3.8.8"
  }
 },
 "nbformat": 4,
 "nbformat_minor": 5
}
