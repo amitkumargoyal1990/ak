{
 "cells": [
  {
   "cell_type": "code",
   "execution_count": 4,
   "id": "97598f43",
   "metadata": {},
   "outputs": [
    {
     "name": "stdout",
     "output_type": "stream",
     "text": [
      "Enter a number: 7\n",
      "Factorial of :  7  is :  5040\n"
     ]
    }
   ],
   "source": [
    "#1.Write a Python Program to Find the Factorial of a Number?\n",
    "\n",
    "#Sol-1\n",
    "\n",
    "fac = 1\n",
    "num = int(input(\"Enter a number: \"))\n",
    "for i in range(1,num+1):\n",
    "    fac = fac * i\n",
    "print(\"Factorial of : \", num , \" is : \", fac)"
   ]
  },
  {
   "cell_type": "code",
   "execution_count": 7,
   "id": "38a77c32",
   "metadata": {},
   "outputs": [
    {
     "name": "stdout",
     "output_type": "stream",
     "text": [
      "Enter a number: 3\n",
      "3 x 1 = 3\n",
      "3 x 2 = 6\n",
      "3 x 3 = 9\n",
      "3 x 4 = 12\n",
      "3 x 5 = 15\n",
      "3 x 6 = 18\n",
      "3 x 7 = 21\n",
      "3 x 8 = 24\n",
      "3 x 9 = 27\n",
      "3 x 10 = 30\n"
     ]
    }
   ],
   "source": [
    "#2.Write a Python Program to Display the multiplication Table?\n",
    "\n",
    "#Sol-2\n",
    "\n",
    "num = int(input(\"Enter a number: \"))\n",
    "for i in range(1, 11):\n",
    "   print(num, 'x', i, '=', num*i)"
   ]
  },
  {
   "cell_type": "code",
   "execution_count": 10,
   "id": "a876e449",
   "metadata": {},
   "outputs": [
    {
     "name": "stdout",
     "output_type": "stream",
     "text": [
      "Enter a number: 6\n",
      "0\n",
      "1\n",
      "1\n",
      "2\n",
      "3\n",
      "5\n"
     ]
    }
   ],
   "source": [
    "#3.\tWrite a Python Program to Print the Fibonacci sequence?\n",
    "\n",
    "#Sol-3\n",
    "\n",
    "n = int(input(\"Enter a number: \"))\n",
    "a = 0\n",
    "b = 1\n",
    "if n == 1:\n",
    "    print(a)\n",
    "else:\n",
    "    print(a)\n",
    "    print(b)\n",
    "    for i in range(2,n):\n",
    "        c = a + b\n",
    "        a = b\n",
    "        b = c\n",
    "        print(c)"
   ]
  },
  {
   "cell_type": "code",
   "execution_count": 7,
   "id": "50f5f174",
   "metadata": {},
   "outputs": [
    {
     "name": "stdout",
     "output_type": "stream",
     "text": [
      "Enter a number: 153\n",
      "153 is an Armstrong number\n"
     ]
    }
   ],
   "source": [
    "#4.Write a Python Program to Check Armstrong Number?\n",
    "\n",
    "\"\"\"\n",
    "Example:\n",
    "Input : 153\n",
    "Output : Yes\n",
    "153 is an Armstrong number.\n",
    "1*1*1 + 5*5*5 + 3*3*3 = 153\n",
    "\n",
    "Input : 120\n",
    "Output : No\n",
    "120 is not a Armstrong number.\n",
    "1*1*1 + 2*2*2 + 0*0*0 = 9\n",
    "\"\"\"\n",
    "\n",
    "#Sol-4\n",
    "\n",
    "num = int(input(\"Enter a number: \"))\n",
    "\n",
    "sum = 0\n",
    "\n",
    "# find the sum of the cube of each digit\n",
    "temp = num\n",
    "while temp > 0:\n",
    "    digit = temp % 10\n",
    "    sum += digit ** 3\n",
    "    temp //=  10\n",
    "\n",
    "# display the result\n",
    "if num == sum:\n",
    "    print(num,\"is an Armstrong number\")\n",
    "else:\n",
    "    print(num,\"is not an Armstrong number\")"
   ]
  },
  {
   "cell_type": "code",
   "execution_count": 8,
   "id": "9717176f",
   "metadata": {},
   "outputs": [
    {
     "name": "stdout",
     "output_type": "stream",
     "text": [
      "153\n",
      "370\n",
      "371\n",
      "407\n",
      "1634\n"
     ]
    }
   ],
   "source": [
    "#5.Write a Python Program to Find Armstrong Number in an Interval?\n",
    "\n",
    "#Sol-5\n",
    "\n",
    "lower = 100\n",
    "upper = 2000\n",
    "\n",
    "for num in range(lower, upper + 1):\n",
    "    # order of number\n",
    "    order = len(str(num))\n",
    "    \n",
    "    # initialize sum\n",
    "    sum = 0\n",
    "\n",
    "    temp = num\n",
    "    while temp > 0:\n",
    "        digit = temp % 10\n",
    "        sum += digit ** order\n",
    "        temp //= 10\n",
    "\n",
    "    if num == sum:\n",
    "        print(num)"
   ]
  },
  {
   "cell_type": "code",
   "execution_count": 10,
   "id": "ca2af980",
   "metadata": {},
   "outputs": [
    {
     "name": "stdout",
     "output_type": "stream",
     "text": [
      "Enter a number: 16\n",
      "The sum is 136\n"
     ]
    }
   ],
   "source": [
    "#6.Write a Python Program to Find the Sum of Natural Numbers?\n",
    "\n",
    "#Sol-6\n",
    "\n",
    "num = int(input(\"Enter a number: \"))\n",
    "\n",
    "if num < 0:\n",
    "    print(\"Enter a positive number\")\n",
    "else:\n",
    "    sum = 0\n",
    "    # use while loop to iterate until zero\n",
    "    while(num > 0):\n",
    "        sum += num\n",
    "        num -= 1\n",
    "print(\"The sum is\", sum)"
   ]
  }
 ],
 "metadata": {
  "kernelspec": {
   "display_name": "Python 3",
   "language": "python",
   "name": "python3"
  },
  "language_info": {
   "codemirror_mode": {
    "name": "ipython",
    "version": 3
   },
   "file_extension": ".py",
   "mimetype": "text/x-python",
   "name": "python",
   "nbconvert_exporter": "python",
   "pygments_lexer": "ipython3",
   "version": "3.8.8"
  }
 },
 "nbformat": 4,
 "nbformat_minor": 5
}
