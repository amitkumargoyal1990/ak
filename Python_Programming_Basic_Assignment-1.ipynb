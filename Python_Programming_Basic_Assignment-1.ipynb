{
 "cells": [
  {
   "cell_type": "code",
   "execution_count": 3,
   "id": "f9ccc3f1",
   "metadata": {},
   "outputs": [
    {
     "name": "stdout",
     "output_type": "stream",
     "text": [
      "Hello Python\n"
     ]
    }
   ],
   "source": [
    "#1.Write a Python program to print \"Hello Python\"?\n",
    "\n",
    "#Sol-1\n",
    "\n",
    "print('Hello Python')"
   ]
  },
  {
   "cell_type": "code",
   "execution_count": 6,
   "id": "bd4e8b39",
   "metadata": {},
   "outputs": [
    {
     "name": "stdout",
     "output_type": "stream",
     "text": [
      "7\n",
      "3.0\n"
     ]
    }
   ],
   "source": [
    "#2.Write a Python program to do arithmetical operations addition and division.?\n",
    "\n",
    "#Sol-2\n",
    "\n",
    "add = 3 + 4\n",
    "divide = 6 / 2\n",
    "\n",
    "print(add)\n",
    "print(divide)"
   ]
  },
  {
   "cell_type": "code",
   "execution_count": 8,
   "id": "fb63e2e6",
   "metadata": {},
   "outputs": [
    {
     "name": "stdout",
     "output_type": "stream",
     "text": [
      "enter the base of the triangle: 12\n",
      "enter the height of the triangle: 10\n",
      "Area of triangle :  60.0\n"
     ]
    }
   ],
   "source": [
    "#3.Write a Python program to find the area of a triangle?\n",
    "\n",
    "#Sol-3\n",
    "\n",
    "base = float(input(\"enter the base of the triangle: \"))\n",
    "height = float(input(\"enter the height of the triangle: \"))\n",
    "\n",
    "area = (1/2) * base * height\n",
    "\n",
    "print(\"Area of triangle : \", area)"
   ]
  },
  {
   "cell_type": "code",
   "execution_count": 9,
   "id": "cd066088",
   "metadata": {},
   "outputs": [
    {
     "name": "stdout",
     "output_type": "stream",
     "text": [
      "Value of x after swapping : 2\n",
      "Value of y after swapping : 1\n"
     ]
    }
   ],
   "source": [
    "#4.Write a Python program to swap two variables?\n",
    "\n",
    "#Sol-4\n",
    "\n",
    "x = 1\n",
    "y = 2\n",
    "\n",
    "temp = x\n",
    "x = y\n",
    "y = temp\n",
    "\n",
    "print(\"Value of x after swapping : {}\".format(x))\n",
    "print(\"Value of y after swapping : {}\".format(y))"
   ]
  },
  {
   "cell_type": "code",
   "execution_count": 14,
   "id": "3aa5056e",
   "metadata": {},
   "outputs": [
    {
     "name": "stdout",
     "output_type": "stream",
     "text": [
      "3\n"
     ]
    }
   ],
   "source": [
    "#5.Write a Python program to generate a random number?\n",
    "\n",
    "#Sol-5\n",
    "\n",
    "import random\n",
    "\n",
    "print(random.randint(0,9))"
   ]
  }
 ],
 "metadata": {
  "kernelspec": {
   "display_name": "Python 3",
   "language": "python",
   "name": "python3"
  },
  "language_info": {
   "codemirror_mode": {
    "name": "ipython",
    "version": 3
   },
   "file_extension": ".py",
   "mimetype": "text/x-python",
   "name": "python",
   "nbconvert_exporter": "python",
   "pygments_lexer": "ipython3",
   "version": "3.8.8"
  }
 },
 "nbformat": 4,
 "nbformat_minor": 5
}
